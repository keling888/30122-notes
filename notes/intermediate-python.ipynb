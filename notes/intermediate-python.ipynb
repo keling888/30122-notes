{
 "cells": [
  {
   "cell_type": "markdown",
   "metadata": {},
   "source": [
    "# Intermediate Python\n",
    "\n",
    "Today we're going to be talking about some features of Python that might be considered \"ergonomic.\"\n",
    "\n",
    "You can, and have, gotten by without using these as they aren't fundamental in the way that loops, functions, and classes are.\n",
    "\n",
    "Learning these features gives you additional ways to solve problems, which can be more efficient or elegant than alternatives.\n",
    "\n",
    "\n",
    "Some topics that fall into this category are:\n",
    "\n",
    "* Comprehensions (which you've already seen)\n",
    "* Decorators (which you've seen a little bit of)\n",
    "* Exceptions & Context Managers\n",
    "* Generators\n",
    "* Type Hints\n",
    "\n",
    "## Exceptions & Context Managers\n",
    "\n",
    "### Motivation\n",
    "\n",
    "No matter how good your code is, there's always going to be a chance that something goes wrong.\n",
    "\n",
    "A common example is a file not being available when you try to open it. (Perhaps it is missing or you don't have permission to access it.)\n",
    "\n",
    "You could imagine code like this:\n",
    "\n",
    "```python\n",
    "file = open(\"file.txt\")\n",
    "file.write(\"Hello, world!\\n\")\n",
    "file.write(\"Second Write\")\n",
    "file.close()\n",
    "```\n",
    "\n",
    "If you're worried about `open` failing you might end up with code like this:\n",
    "\n",
    "```python\n",
    "file = open(\"file.txt\")\n",
    "# check if file is open (not a real method, just an example)\n",
    "if file.is_open():\n",
    "    file.write(\"Hello, world!\\n\")\n",
    "    file.write(\"Second Write\")\n",
    "    file.close()\n",
    "```\n",
    "\n",
    "But what if other methods fail? If we're writing over a network, the disk is full, or the file is locked by another process?\n",
    "\n",
    "```python\n",
    "# this code does not work, demo purposes\n",
    "file = open(\"file.txt\")\n",
    "if file.is_open():\n",
    "    success = file.write(\"Hello, world!\\n\")\n",
    "    if success:\n",
    "        success = file.write(\"Second Write\")\n",
    "\n",
    "    if not success:\n",
    "        # handle error\n",
    "\n",
    "    # close file no matter what\n",
    "    file.close()\n",
    "```\n",
    "\n",
    "This can get very messy very quickly.\n",
    "\n",
    "### Exceptions Syntax Review\n",
    "\n",
    "In Python, we can use exceptions as an alternate control flow path.\n",
    "What this means is that instead of executing code sequentially, we can jump to a different part of the program if an exception is raised.\n",
    "\n",
    "The two key pieces of syntax are `raise`, and `try-except`.\n",
    "\n",
    "#### `raise` & Exception Types\n",
    "\n",
    "When a `raise` statement is encountered, typical execution is stopped and the program jumps to the nearest matching `except` block.\n",
    "\n",
    "```python\n",
    "raise ExceptionType(\"message\")\n",
    "```\n",
    "\n",
    "An exception can be any class that inherits from `BaseException`, common built in exceptions are:\n",
    "\n",
    "* `Exception`\n",
    "* `ValueError`\n",
    "* `TypeError`\n",
    "* `KeyError`\n",
    "* `IndexError`\n",
    "* `FileNotFoundError`\n",
    "* `NotImplementedError`\n",
    "\n",
    "You can also create your own by subclassing `Exception` or any other relevant type.\n",
    "\n",
    "```python\n",
    "class TooManyTokens(Exception):\n",
    "    pass\n",
    "\n",
    "...\n",
    "\n",
    "if len(tokens) > MAX_TOKENS:\n",
    "    raise TooManyTokens(f\"Expected at most {MAX_TOKENS} tokens, got {len(tokens)}\")\n",
    "```\n",
    "\n",
    "#### `try-except`\n",
    "\n",
    "```python\n",
    "try:\n",
    "    # code that might raise an exception\n",
    "except ExceptionType:\n",
    "    # code to run if an exception is raised\n",
    "except OtherExceptionType as e:\n",
    "    # code to run if an exception is raised\n",
    "    # in this example, e will be the exception object so you can\n",
    "    # use it/log it/etc.\n",
    "else:\n",
    "    # code to run if no exception is raised\n",
    "finally:\n",
    "    # code to run no matter what\n",
    "```\n",
    "\n",
    "* only one `except` block will be run, the first one that matches the exception type\n",
    "* an `except` block can match multiple exception types by providing a tuple of types or by using a base class\n",
    "* `else` and `finally` are not required and often omitted, but can be useful.\n",
    "\n",
    "Our file handling example can be rewritten to use exceptions:\n",
    "\n",
    "```python\n",
    "try:\n",
    "    file = open(\"file.txt\")\n",
    "    file.write(\"Hello, world!\\n\")\n",
    "    file.write(\"Second Write\")\n",
    "except (OSError, IOError) as e:\n",
    "    # handle error\n",
    "finally:\n",
    "    file.close()\n",
    "```\n",
    "\n",
    "Now if any of these three lines raise an exception, the file will still be closed.\n",
    "\n",
    "\n",
    "### Context Managers\n",
    "\n",
    "Context managers are a way to automatically run some code when entering and exiting a block of code.\n",
    "\n",
    "They are commonly used to manage resources like files, locks, and database connections and can be thought of as related to exceptions in that they provide an alternate way to work with errors.\n",
    "\n",
    "If a Python object has `__enter__` and `__exit__` methods, it can be used as a context manager.\n",
    "\n",
    "Rewriting our file handling example to use a context manager:\n",
    "\n",
    "`__enter__` is called when entering the `with` block, and `__exit__` is called when exiting the block.\n",
    "\n",
    "These are called no matter what, so if an exception is raised, `__exit__` will still be called.\n",
    "\n",
    "If you have no custom code you need to run, just want to make sure something is closed, you could rewrite the above example as\n",
    "\n",
    "```python\n",
    "with open(\"file.txt\") as file:\n",
    "    file.write(\"Hello, world!\\n\")\n",
    "    file.write(\"Second Write\")\n",
    "```\n",
    "\n",
    "Any exception raised in the `with` block will be caught and passed to `__exit__`.  `file's` `__exit__` method will then close the file.\n",
    "\n",
    "Other common uses of context managers are:\n",
    "\n",
    "* `with db_connection:` - Ensures database connection is closed when the block exits.\n",
    "* `with db.transaction.atomic():` - Ensure that a block of code is run within a database transaction so changes can be rolled back if an exception is raised.\n",
    "\n",
    "### Writing Your Own Context Managers\n",
    "\n",
    "As mentioned, if a Python object has `__enter__` and `__exit__` methods, it can be used as a context manager.\n",
    "\n",
    "You can write your own context managers by implementing these methods."
   ]
  },
  {
   "cell_type": "code",
   "execution_count": null,
   "metadata": {},
   "outputs": [],
   "source": [
    "class MyContextManager:\n",
    "    def __enter__(self):\n",
    "        print(\"entering block\")\n",
    "        # code to run when entering the block\n",
    "\n",
    "        # return value is assigned to the variable in the `as` clause\n",
    "        return self\n",
    "\n",
    "    def __exit__(self, exc_type, exc_value, traceback):\n",
    "        # code to run when exiting the block\n",
    "        # exc_type, exc_value, and traceback are the exception info\n",
    "        # if an exception was raised, otherwise they are None\n",
    "        if exc_type is not None:\n",
    "            print(\"exception was raised\")\n",
    "        else:\n",
    "            print(\"exiting normally\")\n",
    "\n",
    "        # return True to suppress the exception propagating\n",
    "        return True\n"
   ]
  },
  {
   "cell_type": "code",
   "execution_count": null,
   "metadata": {},
   "outputs": [],
   "source": [
    "with MyContextManager() as context:\n",
    "    print(\"inside block\")"
   ]
  },
  {
   "cell_type": "code",
   "execution_count": null,
   "metadata": {},
   "outputs": [],
   "source": [
    "with MyContextManager() as context:\n",
    "    7 / 0"
   ]
  },
  {
   "cell_type": "markdown",
   "metadata": {},
   "source": [
    "### Tips / Further Reading\n",
    "\n",
    "* Try to keep your `try` blocks as small as possible, only including the code that might raise an exception.\n",
    "* Catch the most specific exception possible, and only catch exceptions that you can handle.\n",
    "* Avoid catching `Exception`, or omitting the exception type entirely. This will catch all exceptions, which can lead to hard-to-find bugs.\n",
    "\n",
    "* [Python Docs - Errors and Exceptions](https://docs.python.org/3/tutorial/errors.html)\n",
    "* [Python Docs - Context Managers](https://docs.python.org/3/reference/datamodel.html#context-managers)\n",
    "* [Python Docs - with Statement](https://docs.python.org/3/reference/compound_stmts.html#the-with-statement)\n",
    "\n",
    "## Generators\n",
    "\n",
    "Generators are a special type of function that can be re-entered.\n",
    "\n",
    "An incredibly powerful tool for writing efficient code, especially when dealing with large amounts of data.\n",
    "\n",
    "### Iterables\n",
    "\n",
    "Recall that Python objects use dunder methods to implement most of their functionality.\n",
    "\n",
    "You may recall that when implementing a class you can define `__getitem__` and `__setitem__` to make your class subscriptable."
   ]
  },
  {
   "cell_type": "code",
   "execution_count": null,
   "metadata": {},
   "outputs": [],
   "source": [
    "ll = [1, 2, 3]\n",
    "print(ll[0])\n",
    "print(ll.__getitem__(0))  # you wouldn't write this, but it's the same thing\n",
    "\n",
    "ll[0] = 4\n",
    "ll.__setitem__(0, 4)  # you wouldn't write this, but it's the same thing"
   ]
  },
  {
   "cell_type": "markdown",
   "metadata": {},
   "source": [
    "A `for` loop is similarly syntactic sugar for calling two other methods: `__iter__` and `__next__`."
   ]
  },
  {
   "cell_type": "code",
   "execution_count": null,
   "metadata": {},
   "outputs": [],
   "source": [
    "ll = [1, 2, 3, 4]\n",
    "for item in ll:\n",
    "    print(item)"
   ]
  },
  {
   "cell_type": "code",
   "execution_count": null,
   "metadata": {},
   "outputs": [],
   "source": [
    "ll = [1, 2, 3, 4]\n",
    "iterator = ll.__iter__()\n",
    "while True:\n",
    "    try:\n",
    "        item = iterator.__next__()\n",
    "    except StopIteration:\n",
    "        break\n",
    "    print(item)\n"
   ]
  },
  {
   "cell_type": "markdown",
   "metadata": {},
   "source": [
    "* `__iter__` returns an iterator object, a special intermediary object that tracks the current position in the iterable.\n",
    "* `__next__` returns the next item in the iterable, and raises `StopIteration` when there are no more items.\n",
    "\n",
    "You could write your own classes that implement these methods to make them iterable.  But today we'll look at another way to make iterables: generators.\n",
    "\n",
    "### Motivation for Generators\n",
    "\n",
    "Let's say that you want to write a function that will return many values, but you only intend for one to be used at a time.\n"
   ]
  },
  {
   "cell_type": "code",
   "execution_count": null,
   "metadata": {},
   "outputs": [],
   "source": [
    "def permute(word):\n",
    "    if len(word) == 1:\n",
    "        return [word]\n",
    "    else:\n",
    "        result = []\n",
    "        for i in range(len(word)):\n",
    "            for perm in permute(word[:i] + word[i + 1 :]):\n",
    "                result.append(word[i] + perm)\n",
    "        return result\n"
   ]
  },
  {
   "cell_type": "code",
   "execution_count": null,
   "metadata": {},
   "outputs": [],
   "source": [
    "permute(\"abc\")"
   ]
  },
  {
   "cell_type": "markdown",
   "metadata": {},
   "source": [
    "Great, but the size of the returned list will be $n!$, where $n$ is the length of the string.\n",
    "\n",
    "It's also possible we're searching for a particular permutation, so we won't actually need all of the results & it'd be nice to stop early."
   ]
  },
  {
   "cell_type": "code",
   "execution_count": null,
   "metadata": {},
   "outputs": [],
   "source": [
    "results = permute(\"too long\")\n",
    "print(len(results))"
   ]
  },
  {
   "cell_type": "markdown",
   "metadata": {},
   "source": [
    "### Generators\n",
    "\n",
    "Often, we only need one item at a time, and we don't want to store all of the results in memory.\n",
    "\n",
    "This is the case with a lot of data processing tasks, where we might have millions of records, but only need to process one at a time.\n",
    "\n",
    "Generators are special functions that return an iterator.\n",
    "\n",
    "Let's take a look at `range`:"
   ]
  },
  {
   "cell_type": "code",
   "execution_count": null,
   "metadata": {},
   "outputs": [],
   "source": [
    "def stop_cond(x):\n",
    "    # contrived stop condition, perhaps you're searching for a value that fits some criteria:w\n",
    "    return x == 17\n",
    "\n",
    "\n",
    "for x in range(10_000_000):\n",
    "    print(x)\n",
    "    # we don't actually need all of the values\n",
    "    if stop_cond(x):\n",
    "        print(\"found it!\")\n",
    "        break\n"
   ]
  },
  {
   "cell_type": "markdown",
   "metadata": {},
   "source": [
    "If `range` returned a list, it would need to allocate a large list, which is both slower and more memory intensive.\n",
    "\n",
    "Instead range's implementation looks something like this:"
   ]
  },
  {
   "cell_type": "code",
   "execution_count": 32,
   "metadata": {},
   "outputs": [],
   "source": [
    "# simplified form with one parameter\n",
    "def newrange(n):\n",
    "    i = 0\n",
    "    while i < n:\n",
    "        print(f\"inside newrange {i}/{n}\")\n",
    "        yield i\n",
    "        i += 1\n"
   ]
  },
  {
   "cell_type": "code",
   "execution_count": 33,
   "metadata": {},
   "outputs": [],
   "source": [
    "g = newrange(5)\n",
    "h = newrange(10)"
   ]
  },
  {
   "cell_type": "code",
   "execution_count": 34,
   "metadata": {},
   "outputs": [
    {
     "name": "stdout",
     "output_type": "stream",
     "text": [
      "<generator object newrange at 0x1202fcb80> <generator object newrange at 0x1202fc400>\n"
     ]
    }
   ],
   "source": [
    "print(g, h)"
   ]
  },
  {
   "cell_type": "code",
   "execution_count": 40,
   "metadata": {},
   "outputs": [
    {
     "ename": "StopIteration",
     "evalue": "",
     "output_type": "error",
     "traceback": [
      "\u001b[0;31m---------------------------------------------------------------------------\u001b[0m",
      "\u001b[0;31mStopIteration\u001b[0m                             Traceback (most recent call last)",
      "Cell \u001b[0;32mIn[40], line 1\u001b[0m\n\u001b[0;32m----> 1\u001b[0m \u001b[38;5;28mprint\u001b[39m(\u001b[38;5;28;43mnext\u001b[39;49m\u001b[43m(\u001b[49m\u001b[43mg\u001b[49m\u001b[43m)\u001b[49m, \u001b[38;5;28mnext\u001b[39m(h))\n",
      "\u001b[0;31mStopIteration\u001b[0m: "
     ]
    }
   ],
   "source": [
    "print(next(g), next(h))"
   ]
  },
  {
   "cell_type": "code",
   "execution_count": 28,
   "metadata": {},
   "outputs": [
    {
     "data": {
      "text/plain": [
       "4"
      ]
     },
     "execution_count": 28,
     "metadata": {},
     "output_type": "execute_result"
    }
   ],
   "source": [
    "next(h)"
   ]
  },
  {
   "cell_type": "code",
   "execution_count": 41,
   "metadata": {},
   "outputs": [
    {
     "name": "stdout",
     "output_type": "stream",
     "text": [
      "inside newrange 0/5\n",
      "0\n",
      "inside newrange 1/5\n",
      "1\n",
      "inside newrange 2/5\n",
      "2\n",
      "inside newrange 3/5\n",
      "3\n",
      "inside newrange 4/5\n",
      "4\n"
     ]
    }
   ],
   "source": [
    "for x in newrange(5):\n",
    "    print(x)"
   ]
  },
  {
   "cell_type": "markdown",
   "metadata": {},
   "source": [
    "`yield` is a special keyword that returns a value from the function, but doesn't exit the function the way `return` does.\n",
    "\n",
    "When the function is called again, it will continue from where it left off.\n",
    "\n",
    "Let's rewrite `permute` as a generator:"
   ]
  },
  {
   "cell_type": "code",
   "execution_count": null,
   "metadata": {},
   "outputs": [],
   "source": [
    "def ipermute(word):\n",
    "    all_permutations [\n",
    "    if len(word) == 1:\n",
    "        yield word\n",
    "    else:\n",
    "        for i in range(len(word)):\n",
    "            for perm in permute(word[:i] + word[i + 1 :]):\n",
    "                yield word[i] + perm"
   ]
  },
  {
   "cell_type": "code",
   "execution_count": null,
   "metadata": {},
   "outputs": [],
   "source": [
    "for perm in ipermute(\"abc\"):\n",
    "    print(perm)"
   ]
  },
  {
   "cell_type": "markdown",
   "metadata": {},
   "source": [
    "### Generator Expressions\n",
    "\n",
    "You can use generator expressions to create generators without having to write a function."
   ]
  },
  {
   "cell_type": "code",
   "execution_count": null,
   "metadata": {},
   "outputs": [],
   "source": [
    "squares = (x**2 for x in range(1000000))"
   ]
  },
  {
   "cell_type": "markdown",
   "metadata": {},
   "source": [
    "This looks like a list comprehension, but has parentheses instead of brackets.\n",
    "\n",
    "It creates a generator that will return the squares of the numbers from 0 to 999999.\n",
    "\n",
    "\n",
    "### `itertools`\n",
    "\n",
    "The `itertools` module contains many useful functions for working with iterators, all of which are implemented as generators.\n",
    "\n",
    "Useful functions include:\n",
    "\n",
    "* `itertools.permutations` - permutations of an iterable\n",
    "* `itertools.combinations` - combinations without replacement\n",
    "* `itertools.product` - cartesian product of multiple iterables (like nested for loops)\n",
    "* `itertools.chain` - concatenate iterators\n",
    "* `itertools.islice` - slice an iterator the way you would a list\n",
    "* `itertools.groupby` - group items by a key\n",
    "* `itertools.tee` - create multiple iterators from one\n",
    "\n",
    "\n",
    "## Typing\n",
    "\n",
    "The biggest change to Python in recent years is the addition of type annotations.\n",
    "\n",
    "### Motivation\n",
    "\n",
    "Python is a dynamically typed language, which means that the type of a variable is determined at runtime.\n",
    "\n",
    "It also means the type can change:\n",
    "\n",
    "```python\n",
    "x = 1\n",
    "x = \"hello\"  # no error\n",
    "```\n",
    "\n",
    "This is a common source of bugs, since it can be difficult to keep track of what type a variable is.\n",
    "\n",
    "```python\n",
    "x = f() # f used to return an int, but now returns a string\n",
    "```\n",
    "\n",
    "### Static Typing\n",
    "\n",
    "Many languages require variable definitions and function signatures to include type annotations.\n",
    "\n",
    "```c\n",
    "// C\n",
    "int f(int x) {\n",
    "    return x + 1;\n",
    "}\n",
    "```\n",
    "\n",
    "```rust\n",
    "// Rust\n",
    "fn f(x: i32) -> i32 {\n",
    "    x + 1\n",
    "}\n",
    "```\n",
    "\n",
    "This is called static typing, because the type is checked at compile time.\n",
    "\n",
    "### Type Annotations\n",
    "\n",
    "Python 3.5 introduced type annotations, which are optional type hints that can be added to your code.\n",
    "Evey version of Python since 3.5 has added new features to the type system, but as of 3.10 many of the rough edges have been smoothed out.\n",
    "\n",
    "```python\n",
    "def f(x: int) -> int:\n",
    "    return x + 1\n",
    "```\n",
    "\n",
    "Two new pieces of syntax:\n",
    "\n",
    "* After a variable definition (typically a function parameter) you can add a colon and the type.\n",
    "* Return type annotations can be placed after the closing parenthesis of the function signature with the `-> int` syntax.\n",
    "\n",
    "### Types\n",
    "\n",
    "You can annotate with any of the built-in types:\n",
    "\n",
    "* `int`\n",
    "* `float`\n",
    "* `str`\n",
    "* `bool`\n",
    "* `None`\n",
    "* etc.\n",
    "\n",
    "The compound types (features added in Python 3.7-3.9):\n",
    "\n",
    "* `list`\n",
    "* `dict`\n",
    "* `set`\n",
    "* `tuple`\n",
    "\n",
    "These allow for annotating the type of the elements in the container:\n",
    "\n",
    "```python\n",
    "def f(x: list[int]) -> dict[str, int]:\n",
    "    return {str(i): i for i in x}\n",
    "```\n",
    "\n",
    "* `list[int]` - a list of `int`s\n",
    "* `dict[str, int]` - a dictionary with `str` keys and `int` values\n",
    "* `tuple[int, str]` - a 2-tuple with an `int` and a `str`\n",
    "* `set[tuple[int, int, int]]` - set of 3-tuples of ints\n",
    "\n",
    "And finally, there are a lot of helper types in the `typing` module:\n",
    "\n",
    "* `typing.Any` - any type\n",
    "* `typing.Optional[int]` - an `int` or `None`\n",
    "* `typing.Union[int, str]` - an `int` or a `str`\n",
    "* `typing.Callable[[int, str], bool]` - a function that takes an `int` and a `str` and returns a `bool`\n",
    "\n",
    "You can also union types together with `|` (as of Python 3.10):\n",
    "\n",
    "```python\n",
    "def f(x: int | str) -> int | str:\n",
    "    return x\n",
    "```\n",
    "\n",
    "This also works as an alternate syntax for `Optional`:\n",
    "\n",
    "```python\n",
    "def f(x: int | None) -> int | None:\n",
    "    return x\n",
    "```\n",
    "\n",
    "### Type Checking\n",
    "\n",
    "One thing to be aware of: these don't do anything! They're just hints for the programmer.\n",
    "\n",
    "```python\n",
    "# bad type annotations\n",
    "def f(x: list) -> str:\n",
    "    return {\"a\": 1}\n",
    "\n",
    "f(27.5) \n",
    "```\n",
    "\n",
    "Every type annotation is wrong in the above example, but Python will not complain at \"compile\" time nor at runtime.\n",
    "\n",
    "If you want to check your types, you can use a tool like `mypy`:\n",
    "\n",
    "https://mypy-lang.org/ \n",
    "\n",
    "Running `mypy` on the above code will give you output like:\n",
    "\n",
    "```python\n",
    "$ mypy test.py\n",
    "test.py:3: error: Incompatible return value type (got \"Dict[str, int]\", expected \"str\")\n",
    "test.py:5: error: Argument 1 to \"f\" has incompatible type \"float\"; expected \"list\"\n",
    "Found 2 errors in 1 file (checked 1 source file)\n",
    "```\n",
    "\n",
    "### Runtime Type Checking\n",
    "\n",
    "Some libraries, such as the built in `dataclasses` module, `pydantic`, `FastAPI`, and `typer` are starting to use type annotations for runtime type checking."
   ]
  },
  {
   "cell_type": "code",
   "execution_count": null,
   "metadata": {},
   "outputs": [],
   "source": [
    "from pydantic import BaseModel\n",
    "\n",
    "class User(BaseModel):\n",
    "    id: int\n",
    "    name: str\n",
    "    email: str\n",
    "\n",
    "# these are type-checked\n",
    "user = User(id=1, name=\"Sarah Connor\", email=\"sarah@hotmail.com\")"
   ]
  },
  {
   "cell_type": "code",
   "execution_count": null,
   "metadata": {},
   "outputs": [],
   "source": [
    "try:\n",
    "    # note: id will be coerced to string since types are compatible\n",
    "    user = User(id=1, name=\"Sarah Connor\", email=None)\n",
    "except Exception as e:\n",
    "    print(e)"
   ]
  },
  {
   "cell_type": "markdown",
   "metadata": {},
   "source": [
    "This allows you to catch errors earlier, and can result in less boilerplate code.\n",
    "\n",
    "### More on Types\n",
    "\n",
    "You'll definitely encounter type annotations in library documentation, and in more modern codebases.\n",
    "\n",
    "Norms around their usage are evolving, but it's worth getting into the habit of using them. It can make your code more clear and easier to maintain. It can help you find bugs before they happen or more easily reason about expected behavior in an unfamiliar codebase.\n",
    "\n",
    "More on `typing`: https://docs.python.org/3/library/typing.html\n",
    "\n",
    "If you're using VSCode's Python extension, it integrates nicely with type extensions and can be configured to warn you about type errors and optionally run tools like `mypy` to check your types.\n",
    "\n",
    "## Conclusion\n",
    "\n",
    "A common symptom of the \"intermediate\" stage of knowing a language is that people tend to overuse features that are available to them.\n",
    "\n",
    "Please keep in mind that there's nothing inherently better about choosing these over the alternatives, strive to make your code readable and maintainable above all else.\n",
    "\n",
    "### More Python\n",
    "\n",
    "* Functional Programming - decorators, `functools`\n",
    "* Metaclasses\n",
    "* Async I/O - `asyncio`, `async/await`\n",
    "* Bridging Python to other languages - C API, Cython, CFFI, PyO3"
   ]
  }
 ],
 "metadata": {
  "kernelspec": {
   "display_name": "Python 3 (ipykernel)",
   "language": "python",
   "name": "python3"
  },
  "language_info": {
   "codemirror_mode": {
    "name": "ipython",
    "version": 3
   },
   "file_extension": ".py",
   "mimetype": "text/x-python",
   "name": "python",
   "nbconvert_exporter": "python",
   "pygments_lexer": "ipython3",
   "version": "3.11.5"
  }
 },
 "nbformat": 4,
 "nbformat_minor": 4
}
