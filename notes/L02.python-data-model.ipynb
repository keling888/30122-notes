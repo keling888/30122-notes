{
  "cells": [
    {
      "cell_type": "markdown",
      "metadata": {},
      "source": [
        "# M1L2 - Python OOP & Data Model\n",
        "\n",
        "## Part 1: Interfaces & Abstract Classes\n",
        "\n",
        "When we talk about program design we start using the term \"interface\" a lot.\n",
        "You've likely heard the term API, or application programming interface, even if you're not quite sure what it means.\n",
        "\n",
        "When we talk about an interface, we're talking about the \"exposed\" means of interacting with a system.\n",
        "\n",
        "When you get into a car, there's an interface for starting the engine, controlling the direction, speed, etc.\n",
        "There are of course, other ways to start and stop a car -- but we generally prefer to use the pedals.\n",
        "\n",
        "The same is true of our code. When we write functions and classes meant to be used by other developers, or other parts of our own code, we are creating interfaces.  We can think of interfaces as a contract between the developer and the user of the interface.\n",
        "\n",
        "#### Example: Student Interface\n",
        "\n",
        "Two developers, José and Sally, are working together on a project. \n",
        "\n",
        "José is responsible for defining the class definitions of the type of people. For example:\n"
      ]
    },
    {
      "cell_type": "code",
      "metadata": {},
      "source": [
        "from datetime import date"
      ],
      "execution_count": null,
      "outputs": []
    },
    {
      "cell_type": "code",
      "metadata": {},
      "source": [
        "class Student:\n",
        "    def __init__(self, first_name, last_name, birth_date):\n",
        "        self.first_name = first_name\n",
        "        self.last_name = last_name\n",
        "        self.birth_date = birth_date\n",
        "\n",
        "    def age(self):\n",
        "        today = date.today()\n",
        "        # calculate age\n",
        "        age = today.year - self.birth_date.year - ((today.month, today.day) < (self.birth_date.month, self.birth_date.day))\n",
        "        return str(age)\n",
        "    \n",
        "students = [Student(\"Ada\", \"Lovelace\", date(2000, 12, 10)), \n",
        "            Student(\"Charles\", \"Babbage\", date(1991, 12, 26))]"
      ],
      "execution_count": null,
      "outputs": []
    },
    {
      "cell_type": "markdown",
      "metadata": {},
      "source": [
        "Sarah's job is to define a function that displays the full names and ages of people. She starts with a function like:\n"
      ]
    },
    {
      "cell_type": "code",
      "metadata": {},
      "source": [
        "def display_people(people):\n",
        "    for person in people:\n",
        "        print(f\"{person.first_name} {person.last_name} is {person.age()} years old.\")\n",
        "\n",
        "display_people(students)"
      ],
      "execution_count": null,
      "outputs": []
    },
    {
      "cell_type": "markdown",
      "metadata": {},
      "source": [
        "José then reads [Falsehoods Programmers Believe About Names](https://www.kalzumeus.com/2010/06/17/falsehoods-programmers-believe-about-names/) and decides that he wants to change the implementation to store the name as a tuple of first and last names."
      ]
    },
    {
      "cell_type": "code",
      "metadata": {},
      "source": [
        "class Student:\n",
        "    def __init__(self, first_name, last_name, birth_date):\n",
        "        # for now we'll leave the constructor the same and just combine the two\n",
        "        self.names = (first_name, last_name)\n",
        "        self.birth_date = birth_date\n",
        "\n",
        "    def age(self):\n",
        "        today = date.today()\n",
        "        # calculate age\n",
        "        age = today.year - self.birth_date.year - ((today.month, today.day) < (self.birth_date.month, self.birth_date.day))\n",
        "        return str(age)"
      ],
      "execution_count": null,
      "outputs": []
    },
    {
      "cell_type": "code",
      "metadata": {},
      "source": [
        "students = [Student(\"Ada\", \"Lovelace\", date(2000, 12, 10)), \n",
        "            Student(\"Charles\", \"Babbage\", date(1991, 12, 26))]\n",
        "display_people(students)"
      ],
      "execution_count": null,
      "outputs": []
    },
    {
      "cell_type": "markdown",
      "metadata": {},
      "source": [
        "Sarah's code breaks because she's accessing the `first_name` and `last_name` attributes directly. She could fix it by accessing the `names` attribute and then indexing into it, but that's not very readable, and it's not very future-proof.\n",
        "\n",
        "Instead, she asks José to define an interface for accessing the name. He does so by defining a `full_name` method:"
      ]
    },
    {
      "cell_type": "code",
      "metadata": {},
      "source": [
        "class Student:\n",
        "    def __init__(self, first_name, last_name, birth_date):\n",
        "        # for now we'll leave the constructor the same and just combine the two\n",
        "        self.names = (first_name, last_name)\n",
        "        self.birth_date = birth_date\n",
        "\n",
        "    def full_name(self):\n",
        "        return f\"{self.names[0]} {self.names[1]}\"\n",
        "    \n",
        "    def age(self):\n",
        "        today = date.today()\n",
        "        # calculate age\n",
        "        age = today.year - self.birth_date.year - ((today.month, today.day) < (self.birth_date.month, self.birth_date.day))\n",
        "        return str(age)"
      ],
      "execution_count": null,
      "outputs": []
    },
    {
      "cell_type": "markdown",
      "metadata": {},
      "source": [
        "and updates her function to use it:"
      ]
    },
    {
      "cell_type": "code",
      "metadata": {},
      "source": [
        "def display_people(people):\n",
        "    for person in people:\n",
        "        print(f\"{person.full_name()} is {person.age()} years old.\")"
      ],
      "execution_count": null,
      "outputs": []
    },
    {
      "cell_type": "code",
      "metadata": {},
      "source": [
        "students = [Student(\"Ada\", \"Lovelace\", date(2000, 12, 10)), \n",
        "            Student(\"Charles\", \"Babbage\", date(1991, 12, 26))]\n",
        "display_people(students)"
      ],
      "execution_count": null,
      "outputs": []
    },
    {
      "cell_type": "markdown",
      "metadata": {},
      "source": [
        "Now, if José decides to change the implementation of the name, Sarah's code won't break since they've agreed on an interface.\n",
        "\n",
        "A new team member, Pat, is tasked with writing an `Employee` class."
      ]
    },
    {
      "cell_type": "code",
      "metadata": {},
      "source": [
        "class Employee:\n",
        "    def __init__(self, first_name, last_name, age, employee_id):\n",
        "        self.names = (first_name, last_name)\n",
        "        self.age = age\n",
        "        self.employee_id = employee_id\n",
        "\n",
        "    def name(self):\n",
        "        return f\"{self.names[0]} {self.names[1]}\""
      ],
      "execution_count": null,
      "outputs": []
    },
    {
      "cell_type": "code",
      "metadata": {},
      "source": [
        "# Sarah is asked to ensure display_people will work for Employee as well\n",
        "employees = [Employee(\"Fred\", \"Flintstone\", 44, 1), \n",
        "             Employee(\"George\", \"Jetson\", 40, 7777)]\n",
        "display_people(employees)"
      ],
      "execution_count": null,
      "outputs": []
    },
    {
      "cell_type": "markdown",
      "metadata": {},
      "source": [
        "Sarah's `display_people` function does not work with `Employee` objects because it's expecting a `full_name` method but `Employee` has a `name` method. Additionally, `age` is a property of `Employee` but a method on `Student`.\n",
        "\n",
        "A naive solution to this might be to add more code to `display_people` to check what type it gets. Why is this not a good idea? \n",
        "\n",
        "\n",
        "This problem stems from the fact that the code the three are writing is already **tightly coupled**. This means that the code is dependent on the implementation details of other parts of the code. In this case, the `display_people` function is dependent on the `full_name` method and the `age` method.\n",
        "\n",
        "\n",
        "To loosely couple the code, we need to define an interface that the `display_people` function can depend on, rather than the implementation details of the `Student` and `Employee` classes.\n",
        "\n",
        "#### Abstract Classes\n",
        "\n",
        "One solution to this problem is to define an interface using an abstract class, that defines the methods that must be implemented by any class that implements the interface.\n",
        "\n",
        "In Python, we can use the `abc` module to define abstract classes.\n",
        "A class that inherits from `ABC` is an abstract class, and any methods decorated with `@abstractmethod` must be implemented by any class that inherits from it.\n",
        "\n",
        "For example:"
      ]
    },
    {
      "cell_type": "code",
      "metadata": {},
      "source": [
        "from abc import ABC, abstractmethod\n",
        "\n",
        "class Person(ABC):\n",
        "    @abstractmethod\n",
        "    def full_name(self):\n",
        "        pass\n",
        "\n",
        "    @abstractmethod\n",
        "    def age(self):\n",
        "        pass\n",
        "    \n",
        "p = Person()"
      ],
      "execution_count": null,
      "outputs": []
    },
    {
      "cell_type": "markdown",
      "metadata": {},
      "source": [
        "`Person` is an abstract base class (ABC), and any class that inherits from it must implement the `full_name` and `age` methods.\n",
        "Trying to instantiate `Person` directly, or any incomplete subclass, will raise an error.\n",
        "\n",
        "To make a class that implements the `Person` interface, we can do:"
      ]
    },
    {
      "cell_type": "code",
      "metadata": {},
      "source": [
        "class Student(Person):\n",
        "    def __init__(self, first_name, last_name, birth_date):\n",
        "        self.names = (first_name, last_name)\n",
        "        self.birth_date = birth_date\n",
        "\n",
        "    def full_name(self):\n",
        "        return f\"{self.names[0]} {self.names[1]}\"\n",
        "\n",
        "    def age(self):\n",
        "        today = date.today()\n",
        "        # calculate age\n",
        "        age = today.year - self.birth_date.year - ((today.month, today.day) < (self.birth_date.month, self.birth_date.day))\n",
        "        return str(age) \n",
        "\n",
        "\n",
        "class Employee(Person):\n",
        "    def __init__(self, first_name, last_name, age, employee_id):\n",
        "        self._names = (first_name, last_name)\n",
        "        self._age = age\n",
        "        self.employee_id = employee_id\n",
        "\n",
        "    def full_name(self):\n",
        "        return f\"{self._names[0]} {self._names[1]}\"\n",
        "\n",
        "    def age(self):\n",
        "        return str(self._age)"
      ],
      "execution_count": null,
      "outputs": []
    },
    {
      "cell_type": "markdown",
      "metadata": {},
      "source": [
        "Sarah's implementation of `display_people` will work with any `Person` subclass, since they are guaranteed to have the required methods."
      ]
    },
    {
      "cell_type": "code",
      "metadata": {},
      "source": [
        "students = [Student(\"Ada\", \"Lovelace\", date(2000, 12, 10)), \n",
        "            Student(\"Charles\", \"Babbage\", date(1991, 12, 26))]\n",
        "employees = [Employee(\"Fred\", \"Flintstone\", 44, 1), \n",
        "             Employee(\"George\", \"Jetson\", 40, 77777)]\n",
        "people = students + employees\n",
        "display_people(people)"
      ],
      "execution_count": null,
      "outputs": []
    },
    {
      "cell_type": "markdown",
      "metadata": {},
      "source": [
        "#### Benefits of Interfaces\n",
        "\n",
        "* Ease of maintenance & refactoring.\n",
        "* Quickly add new classes that implement the interface without needing to reconsider design.\n",
        "* Ease of testing.\n",
        "\n",
        "**Note** It is also possible to provide default implementations in classes, which can be overridden by subclasses. For example:"
      ]
    },
    {
      "cell_type": "code",
      "metadata": {},
      "source": [
        "from abc import ABC, abstractmethod\n",
        "\n",
        "\n",
        "class Person(ABC):\n",
        "    def __init__(self, first_name, last_name, birth_date):\n",
        "        self.names = (first_name, last_name)\n",
        "        self.birth_date = birth_date\n",
        "\n",
        "    # these methods will be inherited by subclasses, but can be overridden\n",
        "    def full_name(self):\n",
        "        return f\"{self.names[0]} {self.names[1]}\"\n",
        "\n",
        "    def age(self):\n",
        "        today = date.today()\n",
        "        # calculate age\n",
        "        age = today.year - self.birth_date.year - ((today.month, today.day) < (self.birth_date.month, self.birth_date.day))\n",
        "        return str(age) \n",
        "\n",
        "    @abstractmethod\n",
        "    def include_in_payroll(self):\n",
        "        pass\n",
        "\n",
        "\n",
        "class Student(Person):\n",
        "    def __init__(self, first_name, last_name, birth_date):\n",
        "        # if you need to call a parent classes implementation, you can use super()\n",
        "        super().__init__(first_name, last_name, birth_date)\n",
        "        \n",
        "    def include_in_payroll(self):\n",
        "        return False\n",
        "\n",
        "\n",
        "class Employee(Person):\n",
        "    def __init__(self, first_name, last_name, birth_date, employee_id):\n",
        "        super().__init__(first_name, last_name, birth_date)\n",
        "        self.employee_id = employee_id\n",
        "    \n",
        "    def include_in_payroll(self):\n",
        "        return True"
      ],
      "execution_count": null,
      "outputs": []
    },
    {
      "cell_type": "code",
      "metadata": {},
      "source": [
        "e = Employee(\"Mike\", \"Mitchell\", 123, 123)\n",
        "f = Employee(\"Mike\", \"Mitchell\", 123, 123)\n",
        "\n",
        "e == f"
      ],
      "execution_count": null,
      "outputs": []
    },
    {
      "cell_type": "markdown",
      "metadata": {},
      "source": [
        "## Part 2: Python Data Model\n",
        "\n",
        "The types you already know in Python implement special interfaces.\n",
        "\n",
        "```python\n",
        "# addition\n",
        ">>> 1 + 2\n",
        "3\n",
        ">>> \"hello\" + \"world\"\n",
        "\"helloworld\"\n",
        ">>> [1, 2, 3] + [4, 5, 6]\n",
        "[1, 2, 3, 4, 5, 6]\n",
        "```\n",
        "\n",
        "```python\n",
        "# len()\n",
        ">>> len(\"hello\")\n",
        "5\n",
        ">>> len([1, 2, 3])\n",
        "3\n",
        ">>> len({\"a\": 1, \"b\": 2})\n",
        "2\n",
        "```\n",
        "\n",
        "The `+` operator and the `len()` function are examples of **dunder methods**. These are methods that are defined in the Python data model, and are used by the interpreter to implement certain operations.\n",
        "\n",
        "This allows us to define our own types that can be used in the same way as built-in types.  This is commonly known as **operator overloading**.\n",
        "\n",
        "All classes implicitly inherit from `object`, which is the base class for all types in Python.  `object` defines a number of dunder methods, which are used by the interpreter to implement certain operations.\n",
        "\n",
        "We've already seen:\n",
        "\n",
        "* `__init__`\n",
        "* `__str__`\n",
        "* `__repr__`\n",
        "* `__eq__`\n",
        "\n",
        "There are many more, which you can find in the [Python documentation](https://docs.python.org/3/reference/datamodel.html).\n",
        "\n",
        "By defining these methods, we can make our classes behave like built-in types.  Here's an example:\n",
        "\n",
        "#### StaticArray\n",
        "\n",
        "To demonstrate operator overloading, we'll implement a sequence type seen in other languages known as a *static array*:\n",
        "\n",
        "- A static array is a sequence type (i.e., an object that can hold a collection of items) where there is a fixed capacity to number of items the collection can hold.\n",
        "\n",
        "- Resizing of the array is not allowed after initialization. \n",
        "\n",
        "- We will define a class ``StaticArray`` that will allow use to use built-in python operators.\n",
        "\n",
        "We'll be able to use it like this:\n",
        "\n",
        "```python\n",
        ">>> from static_array import StaticArray\n",
        ">>> sa = StaticArray([1, 2, 3])\n",
        ">>> print(sa * 2)\n",
        "# should produce the following output:\n",
        "# [1, 2, 3, 1, 2, 3]\n",
        ">>> print(sa[1])\n",
        "2\n",
        "```\n"
      ]
    },
    {
      "cell_type": "code",
      "metadata": {},
      "source": [
        "from collections.abc import Iterable\n",
        "\n",
        "class StaticArray:\n",
        "    def __init__(self, init_val, capacity = 5):\n",
        "        if isinstance(init_val, Iterable):\n",
        "            self.items = list(init_val)\n",
        "            self.capacity = len(self.items)\n",
        "        else:\n",
        "            self.items = [init_val] * capacity\n",
        "            self.capacity = capacity"
      ],
      "execution_count": null,
      "outputs": []
    },
    {
      "cell_type": "code",
      "metadata": {},
      "source": [
        "sa = StaticArray([1, 2, 3])\n",
        "# printing doesn't provide useful information, what is happening here?\n",
        "print(sa)"
      ],
      "execution_count": null,
      "outputs": []
    },
    {
      "cell_type": "code",
      "metadata": {},
      "source": [
        "# we can fix that by defining a __repr__ method\n",
        "\n",
        "class StaticArray:\n",
        "    def __init__(self, init_val, capacity = 5):\n",
        "        if isinstance(init_val, Iterable):\n",
        "            self.items = list(init_val)\n",
        "            self.capacity = len(self.items)\n",
        "        else:\n",
        "            self.items = [init_val] * capacity\n",
        "            self.capacity = capacity\n",
        "\n",
        "    def __repr__(self):\n",
        "        return f\"StaticArray({self.items})\""
      ],
      "execution_count": null,
      "outputs": []
    },
    {
      "cell_type": "code",
      "metadata": {},
      "source": [
        "sa = StaticArray([1, 2, 3])\n",
        "print(sa)"
      ],
      "execution_count": null,
      "outputs": []
    },
    {
      "cell_type": "markdown",
      "metadata": {},
      "source": [
        "#### str() vs repr()\n",
        "\n",
        "These are two functions that convert an object to a string.  The difference is that `str()` is intended to be readable, while `repr()` is intended to be unambiguous.\n",
        "\n",
        "In practice, it is common to just define `__repr__` since `__str__` will default to `__repr__` if it is not defined."
      ]
    },
    {
      "cell_type": "code",
      "metadata": {},
      "source": [
        "print(str(sa))\n",
        "print(repr(sa))"
      ],
      "execution_count": null,
      "outputs": []
    },
    {
      "cell_type": "markdown",
      "metadata": {},
      "source": [
        "#### Emulating Collections & Sequences\n",
        "\n",
        "**Collections**\n",
        "\n",
        "* Have a length: `len(obj)`\n",
        "* Can be iterated over: `for item in obj: ...`\n",
        "* Can query membership: `item in obj`\n",
        "\n",
        "**Sequences**\n",
        "\n",
        "* Everything a collection can do\n",
        "* Can be indexed: `obj[0]`\n",
        "\n",
        "| You Write...   | Python calls...          |\n",
        "| ---            | ---                      |\n",
        "| ``len(obj)``   | ``obj.__len__()``        |\n",
        "| ``x in obj``   | ``obj.__contains__(x)``  |\n",
        "| ``obj[i]``     | ``obj.__getitem__(i)``   |\n",
        "| ``obj[i] = x`` | ``obj.__setitem__(i,x)`` |\n",
        "| ``del obj[i]`` | ``obj.__delitem__(i)``   |\n"
      ]
    },
    {
      "cell_type": "code",
      "metadata": {},
      "source": [
        "class StaticArray:\n",
        "    def __init__(self, init_val, capacity = 5):\n",
        "        if isinstance(init_val, Iterable):\n",
        "            self.items = list(init_val)\n",
        "            self.capacity = len(self.items)\n",
        "        else:\n",
        "            self.items = [init_val] * capacity\n",
        "            self.capacity = capacity\n",
        "\n",
        "    def __repr__(self):\n",
        "        return f\"StaticArray({self.items})\"\n",
        "\n",
        "    def __str__(self):\n",
        "        return f\"StaticArray({self.items})\"\n",
        "\n",
        "    def __len__(self):\n",
        "        return self.capacity\n",
        "\n",
        "    def __contains__(self, item):\n",
        "        return item in self.items\n",
        "\n",
        "    def __getitem__(self, index):\n",
        "        if index >= self.capacity or index < -self.capacity:\n",
        "            raise IndexError(\"Index out of range\")\n",
        "        return self.items[index]\n",
        "\n",
        "    def __setitem__(self, index, val):\n",
        "        if index >= self.capacity or index < -self.capacity:\n",
        "            raise IndexError(\"Index out of range\")\n",
        "        self.items[index] = val\n",
        "\n",
        "    def __delitem__(self, index):\n",
        "        raise NotImplementedError(\"StaticArray does not support deletion\")\n"
      ],
      "execution_count": null,
      "outputs": []
    },
    {
      "cell_type": "code",
      "metadata": {},
      "source": [
        "sa = StaticArray([1, \"hi\", 3.14, True])\n",
        "len(sa)"
      ],
      "execution_count": null,
      "outputs": []
    },
    {
      "cell_type": "code",
      "metadata": {},
      "source": [
        "42 in sa"
      ],
      "execution_count": null,
      "outputs": []
    },
    {
      "cell_type": "code",
      "metadata": {},
      "source": [
        "\"hi\" in sa"
      ],
      "execution_count": null,
      "outputs": []
    },
    {
      "cell_type": "code",
      "metadata": {},
      "source": [
        "sa[1]"
      ],
      "execution_count": null,
      "outputs": []
    },
    {
      "cell_type": "code",
      "metadata": {},
      "source": [
        "sa[43]"
      ],
      "execution_count": null,
      "outputs": []
    },
    {
      "cell_type": "markdown",
      "metadata": {},
      "source": [
        "We'll stop here for now, but there are many other operators you can override:\n",
        "\n",
        "#### Emulating numeric operators \n",
        "\n",
        "\n",
        "| You Write...   | Python calls...          |\n",
        "| ---            | ---                      |\n",
        "| ``x + y``   | ``x.__add__(y)``        |\n",
        "| ``x - y``   | ``x.__sub__(y)``  |\n",
        "| ``x * y``     | ``x.__mul__(y)``   |\n",
        "| ``x / y`` | ``x.__truediv__(y)`` |\n",
        "| ``x // y`` | ``x.__floordiv__(y)``   |\n",
        "| ``x ** y`` | ``x.__pow__(y)``   |\n",
        "| ``x @ y`` | ``x.__matmul__(y)``   |\n",
        "\n",
        "\n",
        "#### Reverse/Reflected/Right operators \n",
        "\n",
        "\n",
        "| You Write...   | Python calls...          |\n",
        "| ---            | ---                      |\n",
        "| ``x + y``   | ``y.__radd__(x)``        |\n",
        "| ``x - y``   | ``y.__rsub__(x)``  |\n",
        "| ``x * y``     | ``y.__rmul__(x)``   |\n",
        "| ``x / y`` | ``y.__rtruediv__(x)`` |\n",
        "| ``x // y`` | ``y.__rfloordiv__(x)``   |\n",
        "| ``x ** y`` | ``y.__rpow__(x)``   |\n",
        "| ``x @ y`` | ``y.__rmatmul__(x)``   |\n",
        "\n",
        "\n",
        "#### Rich Comparison\n",
        "\n",
        "- Python allows you to also overload comparison operators:\n",
        "   \n",
        "  \n",
        "| You Write...   | Python calls...          |\n",
        "| ---            | ---                      |\n",
        "| ``x == y``   | ``x.__eq__(y)``        |\n",
        "| ``x != y``   | ``x.__ne__(y)``  |\n",
        "| ``x < y``     | ``x.__lt__(y)``   |\n",
        "| ``x > y`` | ``x.__gt__(y)`` |\n",
        "| ``x <= y`` | ``x.__le__(y)``   |\n",
        "| ``x >= y`` | ``x.__ge__(y)``   |\n"
      ]
    }
  ],
  "metadata": {
    "kernelspec": {
      "display_name": "Python 3",
      "language": "python",
      "name": "python3"
    }
  },
  "nbformat": 4,
  "nbformat_minor": 4
}