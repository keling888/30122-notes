{
  "cells": [
    {
      "cell_type": "markdown",
      "metadata": {},
      "source": [
        "## String Manipulation\n",
        "\n",
        "### Example\n",
        "\n",
        "You're working on a project to analyze court filings.\n",
        "\n",
        "* One member of your team is working on OCR (Optical Character Recognition) to convert scanned documents into text files.\n",
        "* Another member of your team will be visualizing the data, and they need the counts of ten key terms in each document.\n",
        "* Your job is to write a function that takes a word and a text file, and returns the number of times that word appears in the text file.\n",
        "\n",
        "This seems like a simple task, you don't have real data yet, so we'll take a free text file of comparable size from Project Gutenberg, and use that.\n"
      ]
    },
    {
      "cell_type": "code",
      "metadata": {},
      "source": [
        "all_text = open('shakespeare.txt').read()\n",
        "\n",
        "def count_word(word, text):\n",
        "    counter = 0\n",
        "    for w in text.split():\n",
        "        if w == word:\n",
        "            counter += 1\n",
        "    return counter"
      ],
      "execution_count": null,
      "outputs": []
    },
    {
      "cell_type": "markdown",
      "metadata": {},
      "source": [
        "How long does this take?\n"
      ]
    },
    {
      "cell_type": "code",
      "metadata": {},
      "source": [
        "import timeit\n",
        "number = 10*10000 # (10 words to search for) * (10000 documents to search)\n",
        "timeit.timeit(\"count_word('Romeo', all_text)\", globals=globals(), number=number)"
      ],
      "execution_count": null,
      "outputs": []
    },
    {
      "cell_type": "code",
      "metadata": {},
      "source": [
        "import timeit\n",
        "number = 1000\n",
        "timeit.timeit(\"count_word('Romeo', all_text)\", globals=globals(), number=number)"
      ],
      "execution_count": null,
      "outputs": []
    },
    {
      "cell_type": "markdown",
      "metadata": {},
      "source": [
        "<https://docs.python.org/3/library/timeit.html>\n",
        "\n",
        "If it takes 40 seconds to run 1000, that means our 100,000 documents will take 4000 seconds, that is over an hour.\n",
        "\n",
        "Seems like we could do better, but an hour is acceptable for now so we move on.\n",
        "\n",
        "### Example 2\n",
        "\n",
        "During code review it is pointed out you will need to ignore case:"
      ]
    },
    {
      "cell_type": "code",
      "metadata": {},
      "source": [
        "def count_word(word, text):\n",
        "    counter = 0\n",
        "    for w in text.split():\n",
        "        if w.lower() == word.lower():\n",
        "            counter += 1\n",
        "    return counter"
      ],
      "execution_count": null,
      "outputs": []
    },
    {
      "cell_type": "markdown",
      "metadata": {},
      "source": [
        "How long does this take?"
      ]
    },
    {
      "cell_type": "code",
      "metadata": {},
      "source": [
        "import timeit\n",
        "number = 1000\n",
        "timeit.timeit(\"count_word('Romeo', all_text)\", globals=globals(), number=number)"
      ],
      "execution_count": null,
      "outputs": []
    },
    {
      "cell_type": "markdown",
      "metadata": {},
      "source": [
        "This made it take about twice as long to run. About two hours to run 100,000 documents.\n",
        "\n",
        "Where did that time go?\n",
        "\n",
        "**Why did it take twice as long?**\n",
        "\n",
        "**There's one easy optimization that can shave about 40ms/iteration off, what is it?**\n",
        "\n",
        "### Example 3\n",
        "\n",
        "Just as you wonder what will happen as the corpus of text grows, you hear that there are new requirements:\n",
        "\n",
        "* Ignore punctuation\n",
        "* Ignore plurals (for our purposes we can just ignore trailing s characters)\n",
        "* Sometimes page numbers are showing up in the middle of scans, and we want to ignore those too, so strip all number characters."
      ]
    },
    {
      "cell_type": "code",
      "metadata": {},
      "source": [
        "def count_word(word, text):\n",
        "    counter = 0\n",
        "    for word in text.split():\n",
        "        # remove all numeric characters that might appear inside words\n",
        "        w = \"\".join([c for c in word if c not in '0123456789'])\n",
        "        w = w.lower()\n",
        "        # remove leading/trailing punctuation (but not punctuation in the middle)\n",
        "        w = w.strip('.,!?;:\"\\'') \n",
        "        if w == word or w + \"s\" == word:\n",
        "            counter += 1\n",
        "    return counter"
      ],
      "execution_count": null,
      "outputs": []
    },
    {
      "cell_type": "code",
      "metadata": {},
      "source": [
        "import timeit\n",
        "\n",
        "number = 100\n",
        "timeit.timeit(\"count_word('Romeo', all_text)\", globals=globals(), number=number)"
      ],
      "execution_count": null,
      "outputs": []
    },
    {
      "cell_type": "markdown",
      "metadata": {},
      "source": [
        "This made it take 7x as long to run, about 14 hours to run the full corpus.\n",
        "\n",
        "As more requirements come in, the code gets more and more complicated, and it takes longer and longer to run.\n",
        "\n",
        "We know each time we add a new requirement, we have to iterate over each word in the text, and do some work on it. Is there any way around this?\n",
        "\n",
        "But what if we could do all of that work in a single pass?\n",
        "\n",
        "### Example 4"
      ]
    },
    {
      "cell_type": "code",
      "metadata": {},
      "source": [
        "import re\n",
        "\n",
        "\n",
        "def count_word(word, text):\n",
        "    # remove all non-alphabetical characters that might appear inside words\n",
        "    text = re.sub(r'[\\d.,!?;:\"\\']', '', text)\n",
        "    # return number of matches of word separated by \"word boundaries\" with optional trailing s\n",
        "    return len(re.findall(r\"\\W\" + word + \"s?\\W\", text, re.IGNORECASE))"
      ],
      "execution_count": null,
      "outputs": []
    },
    {
      "cell_type": "code",
      "metadata": {},
      "source": [
        "import timeit\n",
        "\n",
        "number = 100\n",
        "timeit.timeit(\"count_word('Romeo', all_text)\", globals=globals(), number=number)"
      ],
      "execution_count": null,
      "outputs": []
    },
    {
      "cell_type": "markdown",
      "metadata": {},
      "source": [
        "66% faster than prior version, but with all the same features. Saves us ~9 hours on the full corpus."
      ]
    }
  ],
  "metadata": {
    "kernelspec": {
      "display_name": "Python 3",
      "language": "python",
      "name": "python3"
    }
  },
  "nbformat": 4,
  "nbformat_minor": 4
}