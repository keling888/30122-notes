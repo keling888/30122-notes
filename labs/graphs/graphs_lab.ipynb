{
 "cells": [
  {
   "cell_type": "markdown",
   "id": "d77b5117-f44e-4b52-a871-ee49669b3594",
   "metadata": {
    "tags": []
   },
   "source": [
    "# graphs lab\n",
    "\n",
    "The purpose of this lab is to get some practice with graphs, and the NetworkX library.\n",
    "\n",
    "For full credit on this assignment complete the steps below labeled TODO(1)-TODO(5).\n",
    "\n",
    "This lab is less guided than PAs, you will be doing exploratory analysis on a graph of Twitter interactions between members of Congress.\n",
    "\n",
    "Data Source: https://snap.stanford.edu/data/congress-twitter.html"
   ]
  },
  {
   "cell_type": "code",
   "execution_count": null,
   "id": "812a388d-b9ef-456d-86c9-55bf8deedd5e",
   "metadata": {
    "tags": []
   },
   "outputs": [],
   "source": [
    "import json\n",
    "import networkx as nx"
   ]
  },
  {
   "cell_type": "code",
   "execution_count": null,
   "id": "9596adae-a354-4929-979f-c3afe26504b2",
   "metadata": {
    "tags": []
   },
   "outputs": [],
   "source": [
    "with open(\"congress_network/congress_network_data.json\") as f:\n",
    "    data = json.load(f)\n",
    "print(data[0].keys())"
   ]
  },
  {
   "cell_type": "code",
   "execution_count": null,
   "id": "bfdf7dd8-7ca0-4026-8edd-767441f928cb",
   "metadata": {
    "tags": []
   },
   "outputs": [],
   "source": [
    "# this data is a list with a single element, so we grab that 0th element \n",
    "# and take a look at the keys\n",
    "\n",
    "# We see the keys inList, inWeight, outList, outWeight, usernameList\n",
    "\n",
    "# All of these lists are 475 records long.\n",
    "# The record at any given index refers to the same individual.\n",
    "# - usernameList is a list of Twitter usernames\n",
    "# - inList is a list of indexes of other members that have shared this member's content\n",
    "# - inWeight is a probability of having their content shared by that member\n",
    "# - outList & outWeight are the mirror images of inList & inWeight, we do not need to use them for our purposes\n",
    "\n",
    "# Refer to congress_network/README for further documentation on this file."
   ]
  },
  {
   "cell_type": "code",
   "execution_count": null,
   "id": "792692d7-7b30-4b50-af20-9dbd567d2be8",
   "metadata": {
    "tags": []
   },
   "outputs": [],
   "source": [
    "idx = 0  # let's examine the data at a given index\n",
    "print(\"Username: \", data[0][\"usernameList\"][idx])\n",
    "print(\"Followers: \", data[0][\"inList\"][idx])\n",
    "print(\"Follower Weights: \", data[0][\"inWeight\"][idx])"
   ]
  },
  {
   "cell_type": "markdown",
   "id": "b6289588-2668-4a23-885e-f2bea0409579",
   "metadata": {},
   "source": [
    "This shows that Senator Tammy Baldwin has had content reshared by the members at indexes 4, 9, 11, etc.\n",
    "\n",
    "The corresponding weights are \"transmission probabilities\", the odds of a given post being reshared. \n",
    "\n",
    "A network like this can be used to compute \"viral centrality\", a measure of who's information spreads the farthest among a given network.  Take a look at the other files in the data directory if you'd like to learn more."
   ]
  },
  {
   "cell_type": "markdown",
   "id": "a2af6dea-2504-41b6-b158-2b907f03d31a",
   "metadata": {},
   "source": [
    "## Lab Assignment\n",
    "\n",
    "Our goal today is to explore this data and write a few functions that will help in doing so.\n",
    "\n",
    "The first function we'll need is a function that loads this data into a NetworkX graph.\n",
    "\n",
    "NetworkX gives four graph choices:\n",
    "- Graph — Undirected graphs with self loops\n",
    "- DiGraph — Directed graphs with self loops\n",
    "- MultiGraph — Undirected graphs with self loops and parallel edges\n",
    "- MultiDiGraph — Directed graphs with self loops and parallel edges\n",
    "\n",
    "Each node will be a member of congress and each edge will be a follow relationship between the two.\n",
    "Keep in mind that on Twitter, as with most social media, a user can follow another user but not be followed by them and vice-versa.\n",
    "Consider which graph you'd want to use here.\n",
    "\n"
   ]
  },
  {
   "cell_type": "code",
   "execution_count": null,
   "id": "78fc71e8-3080-47c5-b8f2-4966bf7a54ef",
   "metadata": {
    "tags": []
   },
   "outputs": [],
   "source": [
    "def build_graph(usernameList, inList, inWeight):\n",
    "    \"\"\"\n",
    "    Build a graph given usernames, connections, and weights from the dataset.\n",
    "    \n",
    "    usernameList: list[str]     - list of Twitter usernames\n",
    "    inList: list[list[int]]     - list of list of connected nodes (followers)\n",
    "    inWeight: list[list[float]] - list of list of floats (weights) \n",
    "                                  These should be set as the \"weight\" property on each edge.\n",
    "    \"\"\"\n",
    "    # TODO(1): complete this function"
   ]
  },
  {
   "cell_type": "code",
   "execution_count": null,
   "id": "2045e88f-d0e7-48a4-8c4c-86091a10dfca",
   "metadata": {
    "tags": []
   },
   "outputs": [],
   "source": [
    "graph = build_graph(data[0][\"usernameList\"], data[0][\"inList\"], data[0][\"inWeight\"])"
   ]
  },
  {
   "cell_type": "code",
   "execution_count": null,
   "id": "c6b7696d-e68f-4fa4-a3de-7fc92f1b180c",
   "metadata": {
    "tags": []
   },
   "outputs": [],
   "source": [
    "def test_build_graph(tg):\n",
    "    # these checks will help ensure you loaded the correct amount of data\n",
    "    assert len(tg) == 475\n",
    "    assert len(graph.edges) == 13289\n",
    "    # Pelosi reshared ~.6% of Bobby Rush's content\n",
    "    assert graph[\"SpeakerPelosi\"][\"RepBobbyRush\"][\"weight\"] == 0.00644122383252818\n",
    "    # Bobby Rush reshared ~1% of Speaker Pelosi's content\n",
    "    assert graph[\"RepBobbyRush\"][\"SpeakerPelosi\"][\"weight\"] == 0.010309278350515464\n",
    "    return \"OK\""
   ]
  },
  {
   "cell_type": "code",
   "execution_count": null,
   "id": "3b99692a-de7b-41e8-93d7-6e1921b2f09e",
   "metadata": {
    "tags": []
   },
   "outputs": [],
   "source": [
    "test_build_graph(graph)"
   ]
  },
  {
   "cell_type": "markdown",
   "id": "b3b3d768-69b8-4aa7-8bb9-2b12fb07c832",
   "metadata": {
    "tags": []
   },
   "source": [
    "## Part 2\n",
    "\n",
    "Now that the data is loaded, let's do some initial queries. \n",
    "These help us get familiar with the data and can serve as reasonableness checks on our data.\n",
    "\n",
    "Write two short functions (and any helper functions you deem necessary):\n",
    "\n",
    "- most_followed - Return the top N people with the highest number of followers (in edges).\n",
    "- most_central - Return the top N people with the highest degree centrality as determined by NetworkX.  [Use nx.degree_centrality](https://networkx.org/documentation/stable/reference/algorithms/generated/networkx.algorithms.centrality.degree_centrality.html#networkx.algorithms.centrality.degree_centrality)"
   ]
  },
  {
   "cell_type": "code",
   "execution_count": null,
   "id": "39ad2489-92df-4096-be17-18dde66a77c1",
   "metadata": {
    "tags": []
   },
   "outputs": [],
   "source": [
    "def most_followed(g, top_n):\n",
    "    \"\"\"\n",
    "    Return a list of tuples of the N most followed (most in edges)\n",
    "    along with follower counts.\n",
    "        \n",
    "    Parameters:\n",
    "        g: Graph\n",
    "        top_n: How many members to include.\n",
    "    \n",
    "    Return format:\n",
    "    \n",
    "    [('GOPLeader', 127),\n",
    "     ('RepFranklin', 121),\n",
    "     ('RepJeffDuncan', 120)]\n",
    "    \"\"\"\n",
    "    # TODO(2)\n",
    "    return []\n",
    "    \n",
    "def most_central(g, top_n):\n",
    "    \"\"\"\n",
    "    Return a list of tuples of the N most central and their degree centrality score.\n",
    "    \n",
    "    (Use nx.degree_centrality: \n",
    "    \n",
    "    Parameters:\n",
    "        g: Graph\n",
    "        top_n: How many members to include.\n",
    "    \n",
    "    Return format:\n",
    "    [('GOPLeader', 0.5991561181434598),\n",
    "     ('SpeakerPelosi', 0.550632911392405),\n",
    "     ('RepBobbyRush', 0.4008438818565401),\n",
    "     ('LeaderHoyer', 0.3945147679324894),\n",
    "     ('RepFranklin', 0.38396624472573837)]\n",
    "    \"\"\"\n",
    "    # TODO(3)\n",
    "    return []"
   ]
  },
  {
   "cell_type": "code",
   "execution_count": null,
   "id": "54cf8a28-63c9-4a16-b759-112394cd6198",
   "metadata": {
    "tags": []
   },
   "outputs": [],
   "source": [
    "most_followed(graph, 10)"
   ]
  },
  {
   "cell_type": "code",
   "execution_count": null,
   "id": "584cad07-247d-4608-8514-a3a3bc6c8d55",
   "metadata": {
    "tags": []
   },
   "outputs": [],
   "source": [
    "most_central(graph, 6)"
   ]
  },
  {
   "cell_type": "markdown",
   "id": "cd8cca7c-7375-421f-ad7f-9f0acabb296c",
   "metadata": {
    "tags": []
   },
   "source": [
    "## Part 3\n",
    "\n",
    "After exploring our data, we will implement a graph algorithm using this graph.\n",
    "\n",
    "Let's find out the shortest path between two members.\n",
    "\n",
    "For this portion, you must implement Dijkstra's algorithm.  You may not use the implementation in NetworkX, but you may use it to check yours."
   ]
  },
  {
   "cell_type": "code",
   "execution_count": null,
   "id": "95311fc0-2c96-43ff-80e1-678d593483e0",
   "metadata": {},
   "outputs": [],
   "source": [
    "from collections import deque\n",
    "\n",
    "def shortest_path(graph, start, end):\n",
    "    \"\"\"\n",
    "    Return a list of usernames that form a path from one user to another in graph.\n",
    "    Include both usernames in the list. So for a path from A to C via B, (A -> B -> C),\n",
    "    return [\"A\", \"B\", \"C\"].\n",
    "\n",
    "    Return None if no path is found.\n",
    "\n",
    "    \n",
    "    Input:\n",
    "        graph: Graph\n",
    "        from_name: str - username to start at\n",
    "        to_name: str - username to search for \n",
    "    \n",
    "    This path would represent (for our data) the shortest path information\n",
    "    could take between two users.\n",
    "    \n",
    "    Note that due to the nature of the data, shortest_path(g, A, B) != shortest_path(g, B, A)\n",
    "    \"\"\"\n",
    "    return []"
   ]
  },
  {
   "cell_type": "code",
   "execution_count": null,
   "id": "c736a8e9-e609-45f5-b37a-ea77ccbf7990",
   "metadata": {
    "tags": []
   },
   "outputs": [],
   "source": []
  },
  {
   "cell_type": "code",
   "execution_count": null,
   "id": "53703bce-4178-48f9-a9d1-cadbdcf3e61c",
   "metadata": {
    "tags": []
   },
   "outputs": [],
   "source": []
  },
  {
   "cell_type": "code",
   "execution_count": null,
   "id": "624c975c-0ef2-4cde-88c8-3edb2a5ae4ab",
   "metadata": {},
   "outputs": [],
   "source": []
  },
  {
   "cell_type": "code",
   "execution_count": null,
   "id": "90a01e7c-da9a-4b25-bc65-1818d1dc76db",
   "metadata": {
    "tags": []
   },
   "outputs": [],
   "source": [
    "shortest_path(graph, \"RepMTG\", \"SenSanders\")"
   ]
  },
  {
   "cell_type": "code",
   "execution_count": null,
   "id": "715061d3-abf9-4e7d-b73e-f219f528f516",
   "metadata": {
    "tags": []
   },
   "outputs": [],
   "source": [
    "shortest_path(graph, \"SenSanders\", \"RepMTG\")"
   ]
  },
  {
   "cell_type": "markdown",
   "id": "04250857-31d1-40e1-aea1-b85ddad8dd3e",
   "metadata": {},
   "source": [
    "## Part 4\n",
    "\n",
    "Now, use `shortest_path` to find the people with the lowest distance from GOPLeader & SpeakerPelosi.\n",
    "\n",
    "Let's define a metric to approximate someone's influence over both parties.\n",
    "\n",
    "This metric is given in the function below:"
   ]
  },
  {
   "cell_type": "code",
   "execution_count": null,
   "id": "2615dfcd-d3f9-4c40-bcf1-67b4c45d4503",
   "metadata": {
    "tags": []
   },
   "outputs": [],
   "source": [
    "def metric(graph, member):\n",
    "    \"\"\"\n",
    "    Compute a measure of connectedness to party leadership.\n",
    "    \n",
    "    Our metric is the sum of the length of the four paths between:\n",
    "        (member, GOPLeader)\n",
    "        (GOPLeader, member)\n",
    "        (member, SpeakerPelosi)\n",
    "        (SpeakerPelosi, member)\n",
    "    \n",
    "    If any path is missing, return a large negative number.\n",
    "    Return a negative number for GOPLeader & SpeakerPelosi as well.\n",
    "    \"\"\"\n",
    "    people = (\"GOPLeader\", \"SpeakerPelosi\")\n",
    "    if member in people:\n",
    "        return -1\n",
    "    index = 0\n",
    "    for p in people:\n",
    "        # length of forward path\n",
    "        # subtract two from the path length to account for each person\n",
    "        # and exclude completely disconnected nodes (likely missing data)\n",
    "        path = shortest_path(graph, p, member)\n",
    "        index += len(path) - 2 if path else -100 \n",
    "\n",
    "        # same as above, but backwards path\n",
    "        path = shortest_path(graph, member, p)\n",
    "        index += len(path) - 2 if path else -100\n",
    "    return index"
   ]
  },
  {
   "cell_type": "markdown",
   "id": "426488e8-764a-4581-ab78-cba569035460",
   "metadata": {},
   "source": [
    "Now you can apply this metric over all nodes to find the person \"farthest\" from both of these accounts.\n",
    "\n",
    "**TODO(5)**\n",
    "**To complete the assignment, print this member's name & the name of their state/territory.** \n",
    "\n",
    "(You will need to do a web search since their name is not part of the data set.)"
   ]
  },
  {
   "cell_type": "code",
   "execution_count": null,
   "id": "b18d683c-f0cc-4869-9491-7aa7fa6e50dd",
   "metadata": {
    "tags": []
   },
   "outputs": [],
   "source": []
  },
  {
   "cell_type": "code",
   "execution_count": null,
   "id": "5030ea21-dba5-440f-b7c4-e6c9e673fd1c",
   "metadata": {},
   "outputs": [],
   "source": []
  },
  {
   "cell_type": "code",
   "execution_count": null,
   "id": "82a47e03-63b5-4f4d-b49c-d5632510f09e",
   "metadata": {},
   "outputs": [],
   "source": []
  },
  {
   "cell_type": "code",
   "execution_count": null,
   "id": "cbb0c60e-e482-4d07-ab15-74d96b3fcdd4",
   "metadata": {},
   "outputs": [],
   "source": []
  },
  {
   "cell_type": "code",
   "execution_count": null,
   "id": "83c52d11-4808-4699-a581-6ea63d05c441",
   "metadata": {
    "tags": []
   },
   "outputs": [],
   "source": []
  },
  {
   "cell_type": "code",
   "execution_count": null,
   "id": "b669c525-02a0-40a8-9c7a-2e1d8bb92195",
   "metadata": {},
   "outputs": [],
   "source": []
  }
 ],
 "metadata": {
  "kernelspec": {
   "display_name": "Python 3 (ipykernel)",
   "language": "python",
   "name": "python3"
  },
  "language_info": {
   "codemirror_mode": {
    "name": "ipython",
    "version": 3
   },
   "file_extension": ".py",
   "mimetype": "text/x-python",
   "name": "python",
   "nbconvert_exporter": "python",
   "pygments_lexer": "ipython3",
   "version": "3.12.2"
  }
 },
 "nbformat": 4,
 "nbformat_minor": 5
}
